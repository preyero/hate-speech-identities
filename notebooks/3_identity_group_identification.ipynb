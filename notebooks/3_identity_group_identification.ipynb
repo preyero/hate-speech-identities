{
 "cells": [
  {
   "cell_type": "markdown",
   "metadata": {},
   "source": [
    "## Imports"
   ]
  },
  {
   "cell_type": "code",
   "execution_count": 1,
   "metadata": {},
   "outputs": [
    {
     "name": "stdout",
     "output_type": "stream",
     "text": [
      "/Users/prl222/OneDrive - The Open University/Projects/hate-speech-identities\n"
     ]
    },
    {
     "name": "stderr",
     "output_type": "stream",
     "text": [
      "* Owlready2 * Warning: optimized Cython parser module 'owlready2_optimized' is not available, defaulting to slower Python implementation\n",
      "2023-03-30 13:49:22.395637: I tensorflow/core/platform/cpu_feature_guard.cc:182] This TensorFlow binary is optimized to use available CPU instructions in performance-critical operations.\n",
      "To enable the following instructions: AVX2 FMA, in other operations, rebuild TensorFlow with the appropriate compiler flags.\n",
      "/Users/prl222/OneDrive - The Open University/Projects/hate-speech-identities/venv/lib/python3.8/site-packages/tqdm/auto.py:21: TqdmWarning: IProgress not found. Please update jupyter and ipywidgets. See https://ipywidgets.readthedocs.io/en/stable/user_install.html\n",
      "  from .autonotebook import tqdm as notebook_tqdm\n"
     ]
    }
   ],
   "source": [
    "import os, glob\n",
    "os.chdir('..') \n",
    "PROJ_DIR = os.getcwd()\n",
    "print(PROJ_DIR)\n",
    "from collections import defaultdict\n",
    "import pandas as pd\n",
    "from IPython.display import HTML\n",
    "import hate_datasets as dc\n",
    "import kg_adaptation as kg_adapt\n",
    "import identity_group_identification as model_training\n",
    "from functions.helper import get_metrics, sample_error_partition, sample_true_partition\n",
    "\n",
    "dnames = ['xtremespeech', 'gabhatecorpus', 'hatexplain']\n",
    "# Evaluation variables\n",
    "models_folder = os.path.join(PROJ_DIR, 'models')\n",
    "error_entity_folder = os.path.join(PROJ_DIR, 'interpretations')"
   ]
  },
  {
   "attachments": {},
   "cell_type": "markdown",
   "metadata": {},
   "source": [
    "## Train and export hybrid and transformer based models"
   ]
  },
  {
   "cell_type": "code",
   "execution_count": null,
   "metadata": {},
   "outputs": [],
   "source": [
    "! bash notebooks/train_models.sh"
   ]
  },
  {
   "cell_type": "code",
   "execution_count": 2,
   "metadata": {},
   "outputs": [
    {
     "name": "stdout",
     "output_type": "stream",
     "text": [
      " found 6 models\n"
     ]
    }
   ],
   "source": [
    "# Reproduce experiments from experiment pickle file: cross-validation\n",
    "exp_files = sorted(glob.glob(os.path.join(models_folder, '*/*/*/exp_file.pkl')))\n",
    "print(f' Cross-validation: {len(exp_files)} models')"
   ]
  },
  {
   "cell_type": "code",
   "execution_count": 2,
   "metadata": {},
   "outputs": [
    {
     "name": "stdout",
     "output_type": "stream",
     "text": [
      " Out-of-domain evaluation: 4 models\n"
     ]
    }
   ],
   "source": [
    "# Import hybrid, transformers, lexical models: out-of-domain evaluation\n",
    "# use with predict function\n",
    "models = []\n",
    "# ... lexical\n",
    "lexicon_path = os.path.join(PROJ_DIR, 'baselines', 'Toxic_Debias', 'word_based_bias_list_pruned.csv')\n",
    "models.append(model_training.toxic_debias_load(lexicon_path=lexicon_path))\n",
    "hybrid_models = sorted(glob.glob(os.path.join(models_folder, 'hybrid/gso*/*hierarchical*')))\n",
    "models += [model_training.model_load(hybrid_model) for hybrid_model in hybrid_models]\n",
    "# models.append([])\n",
    "\n",
    "print(f' Out-of-domain evaluation: {len(models)} models')"
   ]
  },
  {
   "cell_type": "markdown",
   "metadata": {},
   "source": [
    "## Evaluation"
   ]
  },
  {
   "cell_type": "code",
   "execution_count": 5,
   "metadata": {},
   "outputs": [
    {
     "name": "stdout",
     "output_type": "stream",
     "text": [
      "Overall loss: 0.6635\n",
      "Label loss: nan\n",
      "Accuracy by chance: 1.2650\n",
      "Log-odds difference: 0.5423\n",
      "ROC AUC: 0.8640\n",
      "PR AUC: 0.8574\n",
      "F1-score: 0.5101\n",
      "Precision: 0.8420\n",
      "Recall: 0.4358\n",
      "Overall loss: 0.4810\n",
      "Label loss: nan\n",
      "Accuracy by chance: 1.6195\n",
      "Log-odds difference: 1.43\n",
      "ROC AUC: 0.9014\n",
      "PR AUC: 0.8958\n",
      "F1-score: 0.7809\n",
      "Precision: 0.8824\n",
      "Recall: 0.7032\n"
     ]
    },
    {
     "name": "stderr",
     "output_type": "stream",
     "text": [
      "/Users/prl222/OneDrive - The Open University/Projects/hate-speech-identities/baselines/target_classification/hate_target/utils.py:82: RuntimeWarning: Mean of empty slice.\n",
      "  print(f\"Label loss: {label_loss.mean():0.4f}\")\n",
      "/Users/prl222/OneDrive - The Open University/Projects/hate-speech-identities/venv/lib/python3.8/site-packages/numpy/core/_methods.py:190: RuntimeWarning: invalid value encountered in double_scalars\n",
      "  ret = ret.dtype.type(ret / rcount)\n",
      "/Users/prl222/OneDrive - The Open University/Projects/hate-speech-identities/baselines/target_classification/hate_target/utils.py:82: RuntimeWarning: Mean of empty slice.\n",
      "  print(f\"Label loss: {label_loss.mean():0.4f}\")\n",
      "/Users/prl222/OneDrive - The Open University/Projects/hate-speech-identities/venv/lib/python3.8/site-packages/numpy/core/_methods.py:190: RuntimeWarning: invalid value encountered in double_scalars\n",
      "  ret = ret.dtype.type(ret / rcount)\n"
     ]
    },
    {
     "name": "stdout",
     "output_type": "stream",
     "text": [
      "Overall loss: 0.3716\n",
      "Label loss: nan\n",
      "Accuracy by chance: 1.7325\n",
      "Log-odds difference: 1.823\n",
      "ROC AUC: 0.9251\n",
      "PR AUC: 0.9270\n",
      "F1-score: 0.8487\n",
      "Precision: 0.8933\n",
      "Recall: 0.8085\n",
      "Overall loss: 0.6684\n",
      "Label loss: nan\n",
      "Accuracy by chance: 1.2214\n",
      "Log-odds difference: 0.4481\n",
      "ROC AUC: 0.8302\n",
      "PR AUC: 0.8257\n",
      "F1-score: 0.4960\n",
      "Precision: 0.8118\n",
      "Recall: 0.4371\n"
     ]
    },
    {
     "name": "stderr",
     "output_type": "stream",
     "text": [
      "/Users/prl222/OneDrive - The Open University/Projects/hate-speech-identities/baselines/target_classification/hate_target/utils.py:82: RuntimeWarning: Mean of empty slice.\n",
      "  print(f\"Label loss: {label_loss.mean():0.4f}\")\n",
      "/Users/prl222/OneDrive - The Open University/Projects/hate-speech-identities/venv/lib/python3.8/site-packages/numpy/core/_methods.py:190: RuntimeWarning: invalid value encountered in double_scalars\n",
      "  ret = ret.dtype.type(ret / rcount)\n",
      "/Users/prl222/OneDrive - The Open University/Projects/hate-speech-identities/baselines/target_classification/hate_target/utils.py:82: RuntimeWarning: Mean of empty slice.\n",
      "  print(f\"Label loss: {label_loss.mean():0.4f}\")\n",
      "/Users/prl222/OneDrive - The Open University/Projects/hate-speech-identities/venv/lib/python3.8/site-packages/numpy/core/_methods.py:190: RuntimeWarning: invalid value encountered in double_scalars\n",
      "  ret = ret.dtype.type(ret / rcount)\n"
     ]
    },
    {
     "name": "stdout",
     "output_type": "stream",
     "text": [
      "Overall loss: 0.4836\n",
      "Label loss: nan\n",
      "Accuracy by chance: 1.5878\n",
      "Log-odds difference: 1.335\n",
      "ROC AUC: 0.8954\n",
      "PR AUC: 0.8936\n",
      "F1-score: 0.7585\n",
      "Precision: 0.8784\n",
      "Recall: 0.6700\n",
      "Overall loss: 0.3682\n",
      "Label loss: nan\n",
      "Accuracy by chance: 1.7344\n",
      "Log-odds difference: 1.831\n",
      "ROC AUC: 0.9257\n",
      "PR AUC: 0.9278\n",
      "F1-score: 0.8502\n",
      "Precision: 0.8914\n",
      "Recall: 0.8127\n"
     ]
    },
    {
     "name": "stderr",
     "output_type": "stream",
     "text": [
      "/Users/prl222/OneDrive - The Open University/Projects/hate-speech-identities/baselines/target_classification/hate_target/utils.py:82: RuntimeWarning: Mean of empty slice.\n",
      "  print(f\"Label loss: {label_loss.mean():0.4f}\")\n",
      "/Users/prl222/OneDrive - The Open University/Projects/hate-speech-identities/venv/lib/python3.8/site-packages/numpy/core/_methods.py:190: RuntimeWarning: invalid value encountered in double_scalars\n",
      "  ret = ret.dtype.type(ret / rcount)\n",
      "/Users/prl222/OneDrive - The Open University/Projects/hate-speech-identities/baselines/target_classification/hate_target/utils.py:82: RuntimeWarning: Mean of empty slice.\n",
      "  print(f\"Label loss: {label_loss.mean():0.4f}\")\n",
      "/Users/prl222/OneDrive - The Open University/Projects/hate-speech-identities/venv/lib/python3.8/site-packages/numpy/core/_methods.py:190: RuntimeWarning: invalid value encountered in double_scalars\n",
      "  ret = ret.dtype.type(ret / rcount)\n"
     ]
    },
    {
     "data": {
      "image/png": "[encoded data removed]",
      "text/plain": [
       "<Figure size 1400x400 with 2 Axes>"
      ]
     },
     "metadata": {},
     "output_type": "display_data"
    }
   ],
   "source": [
    "# 1. Cross-validation results: all with stem\n",
    "\n",
    "model_names_cv = [r'HybridDocF$_{h}$', \n",
    "                  r'HybridLR$_{h}$', \n",
    "                  r'HybridMultiNB$_{h}$', \n",
    "                  r'HybridDocF', \n",
    "                  r'HybridLR', \n",
    "                  r'HybridMultiNB']#, r'RoBERTa$_{base}$']\n",
    "\n",
    "model_training.plot_cv_from_exp_files(exp_files, 'target_gso', model_names_cv, models_folder)"
   ]
  },
  {
   "cell_type": "code",
   "execution_count": 3,
   "metadata": {},
   "outputs": [
    {
     "name": "stdout",
     "output_type": "stream",
     "text": [
      "\n",
      "GABHATECORPUS\n",
      "gabhatecorpus imported successfully from data folder: 7813 annotations samples.\n",
      "Toxic_Debias\n",
      "HybridDocF$_{h}$\n",
      "indexed 7813 documents\n",
      " 38/977 [>.............................] - ETA: 1s  "
     ]
    },
    {
     "name": "stderr",
     "output_type": "stream",
     "text": [
      "2023-03-30 13:50:50.493876: I tensorflow/core/common_runtime/executor.cc:1197] [/device:CPU:0] (DEBUG INFO) Executor start aborting (this does not indicate an error and you can ignore this message): INVALID_ARGUMENT: You must feed a value for placeholder tensor 'Placeholder/_10' with dtype float and shape [7813,6653]\n",
      "\t [[{{node Placeholder/_10}}]]\n",
      "2023-03-30 13:50:50.494277: I tensorflow/core/common_runtime/executor.cc:1197] [/device:CPU:0] (DEBUG INFO) Executor start aborting (this does not indicate an error and you can ignore this message): INVALID_ARGUMENT: You must feed a value for placeholder tensor 'Placeholder/_10' with dtype float and shape [7813,6653]\n",
      "\t [[{{node Placeholder/_10}}]]\n"
     ]
    },
    {
     "name": "stdout",
     "output_type": "stream",
     "text": [
      "977/977 [==============================] - 2s 1ms/step\n",
      " uni output model predictions\n",
      "HybridLR$_{h}$\n",
      "indexed 7813 documents\n",
      " 90/977 [=>............................] - ETA: 1s"
     ]
    },
    {
     "name": "stderr",
     "output_type": "stream",
     "text": [
      "2023-03-30 13:52:58.880035: I tensorflow/core/common_runtime/executor.cc:1197] [/device:CPU:0] (DEBUG INFO) Executor start aborting (this does not indicate an error and you can ignore this message): INVALID_ARGUMENT: You must feed a value for placeholder tensor 'Placeholder/_10' with dtype float and shape [7813,6653]\n",
      "\t [[{{node Placeholder/_10}}]]\n",
      "2023-03-30 13:52:58.880347: I tensorflow/core/common_runtime/executor.cc:1197] [/device:CPU:0] (DEBUG INFO) Executor start aborting (this does not indicate an error and you can ignore this message): INVALID_ARGUMENT: You must feed a value for placeholder tensor 'Placeholder/_10' with dtype float and shape [7813,6653]\n",
      "\t [[{{node Placeholder/_10}}]]\n"
     ]
    },
    {
     "name": "stdout",
     "output_type": "stream",
     "text": [
      "977/977 [==============================] - 1s 1ms/step\n",
      " uni output model predictions\n",
      "HybridMultiNB$_{h}$\n",
      "indexed 7813 documents\n",
      " 95/977 [=>............................] - ETA: 0s"
     ]
    },
    {
     "name": "stderr",
     "output_type": "stream",
     "text": [
      "2023-03-30 13:54:59.930799: I tensorflow/core/common_runtime/executor.cc:1197] [/device:CPU:0] (DEBUG INFO) Executor start aborting (this does not indicate an error and you can ignore this message): INVALID_ARGUMENT: You must feed a value for placeholder tensor 'Placeholder/_10' with dtype float and shape [7813,6653]\n",
      "\t [[{{node Placeholder/_10}}]]\n",
      "2023-03-30 13:54:59.931095: I tensorflow/core/common_runtime/executor.cc:1197] [/device:CPU:0] (DEBUG INFO) Executor start aborting (this does not indicate an error and you can ignore this message): INVALID_ARGUMENT: You must feed a value for placeholder tensor 'Placeholder/_10' with dtype float and shape [7813,6653]\n",
      "\t [[{{node Placeholder/_10}}]]\n"
     ]
    },
    {
     "name": "stdout",
     "output_type": "stream",
     "text": [
      "977/977 [==============================] - 1s 1ms/step\n",
      " uni output model predictions\n",
      "\n",
      "XTREMESPEECH\n",
      "xtremespeech imported successfully from data folder: 5063 annotations samples.\n",
      "... 2639 english texts.\n",
      "Toxic_Debias\n",
      "HybridDocF$_{h}$\n",
      "indexed 2639 documents\n",
      "121/330 [==========>...................] - ETA: 0s"
     ]
    },
    {
     "name": "stderr",
     "output_type": "stream",
     "text": [
      "2023-03-30 13:55:30.242300: I tensorflow/core/common_runtime/executor.cc:1197] [/device:CPU:0] (DEBUG INFO) Executor start aborting (this does not indicate an error and you can ignore this message): INVALID_ARGUMENT: You must feed a value for placeholder tensor 'Placeholder/_10' with dtype float and shape [2639,6653]\n",
      "\t [[{{node Placeholder/_10}}]]\n",
      "2023-03-30 13:55:30.242620: I tensorflow/core/common_runtime/executor.cc:1197] [/device:CPU:0] (DEBUG INFO) Executor start aborting (this does not indicate an error and you can ignore this message): INVALID_ARGUMENT: You must feed a value for placeholder tensor 'Placeholder/_10' with dtype float and shape [2639,6653]\n",
      "\t [[{{node Placeholder/_10}}]]\n"
     ]
    },
    {
     "name": "stdout",
     "output_type": "stream",
     "text": [
      "330/330 [==============================] - 0s 1ms/step\n",
      " uni output model predictions\n",
      "HybridLR$_{h}$\n",
      "indexed 2639 documents\n",
      " 37/330 [==>...........................] - ETA: 0s"
     ]
    },
    {
     "name": "stderr",
     "output_type": "stream",
     "text": [
      "2023-03-30 13:56:15.833912: I tensorflow/core/common_runtime/executor.cc:1197] [/device:CPU:0] (DEBUG INFO) Executor start aborting (this does not indicate an error and you can ignore this message): INVALID_ARGUMENT: You must feed a value for placeholder tensor 'Placeholder/_10' with dtype float and shape [2639,6653]\n",
      "\t [[{{node Placeholder/_10}}]]\n",
      "2023-03-30 13:56:15.834405: I tensorflow/core/common_runtime/executor.cc:1197] [/device:CPU:0] (DEBUG INFO) Executor start aborting (this does not indicate an error and you can ignore this message): INVALID_ARGUMENT: You must feed a value for placeholder tensor 'Placeholder/_10' with dtype float and shape [2639,6653]\n",
      "\t [[{{node Placeholder/_10}}]]\n"
     ]
    },
    {
     "name": "stdout",
     "output_type": "stream",
     "text": [
      "330/330 [==============================] - 1s 2ms/step\n",
      " uni output model predictions\n",
      "HybridMultiNB$_{h}$\n",
      "indexed 2639 documents\n",
      "138/330 [===========>..................] - ETA: 0s"
     ]
    },
    {
     "name": "stderr",
     "output_type": "stream",
     "text": [
      "2023-03-30 13:56:58.259782: I tensorflow/core/common_runtime/executor.cc:1197] [/device:CPU:0] (DEBUG INFO) Executor start aborting (this does not indicate an error and you can ignore this message): INVALID_ARGUMENT: You must feed a value for placeholder tensor 'Placeholder/_10' with dtype float and shape [2639,6653]\n",
      "\t [[{{node Placeholder/_10}}]]\n",
      "2023-03-30 13:56:58.260077: I tensorflow/core/common_runtime/executor.cc:1197] [/device:CPU:0] (DEBUG INFO) Executor start aborting (this does not indicate an error and you can ignore this message): INVALID_ARGUMENT: You must feed a value for placeholder tensor 'Placeholder/_10' with dtype float and shape [2639,6653]\n",
      "\t [[{{node Placeholder/_10}}]]\n"
     ]
    },
    {
     "name": "stdout",
     "output_type": "stream",
     "text": [
      "330/330 [==============================] - 0s 1ms/step\n",
      " uni output model predictions\n",
      "\n",
      "HATEXPLAIN\n",
      "hatexplain imported successfully from data folder: 12334 annotations samples.\n",
      "Toxic_Debias\n",
      "HybridDocF$_{h}$\n",
      "indexed 12334 documents\n",
      "  89/1542 [>.............................] - ETA: 1s"
     ]
    },
    {
     "name": "stderr",
     "output_type": "stream",
     "text": [
      "2023-03-30 13:58:26.170221: I tensorflow/core/common_runtime/executor.cc:1197] [/device:CPU:0] (DEBUG INFO) Executor start aborting (this does not indicate an error and you can ignore this message): INVALID_ARGUMENT: You must feed a value for placeholder tensor 'Placeholder/_10' with dtype float and shape [12334,6653]\n",
      "\t [[{{node Placeholder/_10}}]]\n",
      "2023-03-30 13:58:26.170507: I tensorflow/core/common_runtime/executor.cc:1197] [/device:CPU:0] (DEBUG INFO) Executor start aborting (this does not indicate an error and you can ignore this message): INVALID_ARGUMENT: You must feed a value for placeholder tensor 'Placeholder/_10' with dtype float and shape [12334,6653]\n",
      "\t [[{{node Placeholder/_10}}]]\n"
     ]
    },
    {
     "name": "stdout",
     "output_type": "stream",
     "text": [
      "1542/1542 [==============================] - 2s 1ms/step\n",
      " uni output model predictions\n",
      "HybridLR$_{h}$\n",
      "indexed 12334 documents\n",
      "   1/1542 [..............................] - ETA: 16:59"
     ]
    },
    {
     "name": "stderr",
     "output_type": "stream",
     "text": [
      "2023-03-30 14:01:31.478462: I tensorflow/core/common_runtime/executor.cc:1197] [/device:CPU:0] (DEBUG INFO) Executor start aborting (this does not indicate an error and you can ignore this message): INVALID_ARGUMENT: You must feed a value for placeholder tensor 'Placeholder/_10' with dtype float and shape [12334,6653]\n",
      "\t [[{{node Placeholder/_10}}]]\n",
      "2023-03-30 14:01:31.500064: I tensorflow/core/common_runtime/executor.cc:1197] [/device:CPU:0] (DEBUG INFO) Executor start aborting (this does not indicate an error and you can ignore this message): INVALID_ARGUMENT: You must feed a value for placeholder tensor 'Placeholder/_10' with dtype float and shape [12334,6653]\n",
      "\t [[{{node Placeholder/_10}}]]\n"
     ]
    },
    {
     "name": "stdout",
     "output_type": "stream",
     "text": [
      "1542/1542 [==============================] - 3s 2ms/step\n",
      " uni output model predictions\n",
      "HybridMultiNB$_{h}$\n",
      "indexed 12334 documents\n",
      "  82/1542 [>.............................] - ETA: 1s"
     ]
    },
    {
     "name": "stderr",
     "output_type": "stream",
     "text": [
      "2023-03-30 14:04:56.739066: I tensorflow/core/common_runtime/executor.cc:1197] [/device:CPU:0] (DEBUG INFO) Executor start aborting (this does not indicate an error and you can ignore this message): INVALID_ARGUMENT: You must feed a value for placeholder tensor 'Placeholder/_10' with dtype float and shape [12334,6653]\n",
      "\t [[{{node Placeholder/_10}}]]\n",
      "2023-03-30 14:04:56.739382: I tensorflow/core/common_runtime/executor.cc:1197] [/device:CPU:0] (DEBUG INFO) Executor start aborting (this does not indicate an error and you can ignore this message): INVALID_ARGUMENT: You must feed a value for placeholder tensor 'Placeholder/_10' with dtype float and shape [12334,6653]\n",
      "\t [[{{node Placeholder/_10}}]]\n"
     ]
    },
    {
     "name": "stdout",
     "output_type": "stream",
     "text": [
      "1542/1542 [==============================] - 2s 1ms/step\n",
      " uni output model predictions\n"
     ]
    }
   ],
   "source": [
    "# 2. Out-of-domain evaluation\n",
    "model_names = ['Toxic_Debias', r'HybridDocF$_{h}$', r'HybridLR$_{h}$', r'HybridMultiNB$_{h}$', r'RoBERTa$_{base}$']\n",
    "model_names = ['Toxic_Debias', r'HybridDocF$_{h}$', r'HybridLR$_{h}$', r'HybridMultiNB$_{h}$']\n",
    "\n",
    "identity_col = 'target_gso'\n",
    "performance, datasets = defaultdict(lambda: defaultdict(dict)), {}\n",
    "for dname in ['gabhatecorpus', 'xtremespeech', 'hatexplain']:\n",
    "    print(f'\\n{dname.upper()}')\n",
    "    df, text_col0, id_col0, identities_dict = dc.import_dataset(dname)\n",
    "    data, target_cols, text_col, id_col = dc.prepare_for_model_evaluation(\n",
    "        df, text_col0, id_col0, identities_dict\n",
    "    )\n",
    "    if dname == 'xtremespeech':\n",
    "        # Include only texts in English\n",
    "        data = data.loc[data['Language'] == 'English']\n",
    "        print(f'... {data.shape[0]} english texts.')\n",
    "\n",
    "\n",
    "    # use model_predict for hybrid and transformers, and lexical-based functions.\n",
    "    for model_name, model in zip(model_names, models):\n",
    "        print(model_name)\n",
    "        if model_name == 'Toxic_Debias':\n",
    "            y_trues = data[identity_col].values\n",
    "            y_preds, matches = model_training.toxic_debias_predict(model, data, text_col)\n",
    "            metrics = {m: v[0] for m, v in get_metrics([y_trues], [y_preds], [y_preds]).items()}\n",
    "            performance[dname][model_name] =  metrics\n",
    "            data[f'{model_name}_y_trues'] = y_trues\n",
    "            data[f'{model_name}_y_preds'] = y_preds\n",
    "            data[f'{model_name}_matches'] = matches\n",
    "        else:\n",
    "            y_trues, y_preds, interpretations = model_training.model_predict(model, data, identity_col, text_col)\n",
    "            y_preds_hard = y_preds >= 0.5\n",
    "            metrics = {m: v[0] for m, v in get_metrics([y_trues], [y_preds_hard], [y_preds]).items()}\n",
    "            performance[dname][model_name] =  metrics\n",
    "            if model_name == r'HybridLR$_{h}$':\n",
    "                # Save KG interpretations for best performing hybrid model\n",
    "                data[f'{model_name}_y_trues'] = y_trues\n",
    "                data[f'{model_name}_y_preds'] = y_preds\n",
    "                interpration_cols = [f'{model_name}_{c}' for c in ['pos_matches', 'neg_matches', 'high_syns']]\n",
    "                data[interpration_cols] = pd.DataFrame(interpretations).transpose()\n",
    "            if model_name == r'RoBERTa$_{base}$':\n",
    "                data[f'{model_name}_y_trues'] = y_trues\n",
    "                data[f'{model_name}_y_preds'] = y_preds\n",
    "    prediction_cols = data.columns[-7]\n",
    "    datasets[dname] = data.copy()"
   ]
  },
  {
   "cell_type": "code",
   "execution_count": 4,
   "metadata": {},
   "outputs": [
    {
     "name": "stdout",
     "output_type": "stream",
     "text": [
      "Performance in: GABHATECORPUS\n"
     ]
    },
    {
     "data": {
      "text/html": [
       "<div>\n",
       "<style scoped>\n",
       "    .dataframe tbody tr th:only-of-type {\n",
       "        vertical-align: middle;\n",
       "    }\n",
       "\n",
       "    .dataframe tbody tr th {\n",
       "        vertical-align: top;\n",
       "    }\n",
       "\n",
       "    .dataframe thead th {\n",
       "        text-align: right;\n",
       "    }\n",
       "</style>\n",
       "<table border=\"1\" class=\"dataframe\">\n",
       "  <thead>\n",
       "    <tr style=\"text-align: right;\">\n",
       "      <th></th>\n",
       "      <th>Accuracy</th>\n",
       "      <th>Chance</th>\n",
       "      <th>F1</th>\n",
       "      <th>ROC AUC</th>\n",
       "      <th>PR AUC</th>\n",
       "    </tr>\n",
       "  </thead>\n",
       "  <tbody>\n",
       "    <tr>\n",
       "      <th>Toxic_Debias</th>\n",
       "      <td>91.81</td>\n",
       "      <td>88.97</td>\n",
       "      <td>58.82</td>\n",
       "      <td>74.82</td>\n",
       "      <td>40.20</td>\n",
       "    </tr>\n",
       "    <tr>\n",
       "      <th>HybridDocF$_{h}$</th>\n",
       "      <td>91.13</td>\n",
       "      <td>88.97</td>\n",
       "      <td>51.09</td>\n",
       "      <td>84.58</td>\n",
       "      <td>54.57</td>\n",
       "    </tr>\n",
       "    <tr>\n",
       "      <th>HybridLR$_{h}$</th>\n",
       "      <td>90.64</td>\n",
       "      <td>88.97</td>\n",
       "      <td>62.49</td>\n",
       "      <td>89.14</td>\n",
       "      <td>64.09</td>\n",
       "    </tr>\n",
       "    <tr>\n",
       "      <th>HybridMultiNB$_{h}$</th>\n",
       "      <td>89.56</td>\n",
       "      <td>88.97</td>\n",
       "      <td>61.62</td>\n",
       "      <td>90.11</td>\n",
       "      <td>68.31</td>\n",
       "    </tr>\n",
       "  </tbody>\n",
       "</table>\n",
       "</div>"
      ],
      "text/plain": [
       "                     Accuracy  Chance     F1  ROC AUC  PR AUC\n",
       "Toxic_Debias            91.81   88.97  58.82    74.82   40.20\n",
       "HybridDocF$_{h}$        91.13   88.97  51.09    84.58   54.57\n",
       "HybridLR$_{h}$          90.64   88.97  62.49    89.14   64.09\n",
       "HybridMultiNB$_{h}$     89.56   88.97  61.62    90.11   68.31"
      ]
     },
     "metadata": {},
     "output_type": "display_data"
    }
   ],
   "source": [
    "# Table 3: Gab Hate Corpus\n",
    "dname = 'gabhatecorpus'\n",
    "performance_ghc = pd.DataFrame.from_dict(performance[dname], orient='index') \n",
    "print(f'Performance in: {dname.upper()}')\n",
    "display(performance_ghc)"
   ]
  },
  {
   "cell_type": "code",
   "execution_count": 5,
   "metadata": {},
   "outputs": [
    {
     "name": "stdout",
     "output_type": "stream",
     "text": [
      "Performance in: XTREMESPEECH\n"
     ]
    },
    {
     "data": {
      "text/html": [
       "<div>\n",
       "<style scoped>\n",
       "    .dataframe tbody tr th:only-of-type {\n",
       "        vertical-align: middle;\n",
       "    }\n",
       "\n",
       "    .dataframe tbody tr th {\n",
       "        vertical-align: top;\n",
       "    }\n",
       "\n",
       "    .dataframe thead th {\n",
       "        text-align: right;\n",
       "    }\n",
       "</style>\n",
       "<table border=\"1\" class=\"dataframe\">\n",
       "  <thead>\n",
       "    <tr style=\"text-align: right;\">\n",
       "      <th></th>\n",
       "      <th>Accuracy</th>\n",
       "      <th>Chance</th>\n",
       "      <th>F1</th>\n",
       "      <th>ROC AUC</th>\n",
       "      <th>PR AUC</th>\n",
       "    </tr>\n",
       "  </thead>\n",
       "  <tbody>\n",
       "    <tr>\n",
       "      <th>Toxic_Debias</th>\n",
       "      <td>94.01</td>\n",
       "      <td>93.22</td>\n",
       "      <td>52.41</td>\n",
       "      <td>72.96</td>\n",
       "      <td>31.12</td>\n",
       "    </tr>\n",
       "    <tr>\n",
       "      <th>HybridDocF$_{h}$</th>\n",
       "      <td>93.86</td>\n",
       "      <td>93.22</td>\n",
       "      <td>53.71</td>\n",
       "      <td>86.92</td>\n",
       "      <td>46.90</td>\n",
       "    </tr>\n",
       "    <tr>\n",
       "      <th>HybridLR$_{h}$</th>\n",
       "      <td>90.60</td>\n",
       "      <td>93.22</td>\n",
       "      <td>48.33</td>\n",
       "      <td>87.86</td>\n",
       "      <td>50.85</td>\n",
       "    </tr>\n",
       "    <tr>\n",
       "      <th>HybridMultiNB$_{h}$</th>\n",
       "      <td>90.68</td>\n",
       "      <td>93.22</td>\n",
       "      <td>50.00</td>\n",
       "      <td>87.46</td>\n",
       "      <td>52.83</td>\n",
       "    </tr>\n",
       "  </tbody>\n",
       "</table>\n",
       "</div>"
      ],
      "text/plain": [
       "                     Accuracy  Chance     F1  ROC AUC  PR AUC\n",
       "Toxic_Debias            94.01   93.22  52.41    72.96   31.12\n",
       "HybridDocF$_{h}$        93.86   93.22  53.71    86.92   46.90\n",
       "HybridLR$_{h}$          90.60   93.22  48.33    87.86   50.85\n",
       "HybridMultiNB$_{h}$     90.68   93.22  50.00    87.46   52.83"
      ]
     },
     "metadata": {},
     "output_type": "display_data"
    }
   ],
   "source": [
    "# Table 3: XtremeSpeech\n",
    "dname = 'xtremespeech'\n",
    "performance_xp = pd.DataFrame.from_dict(performance[dname], orient='index') \n",
    "print(f'Performance in: {dname.upper()}')\n",
    "display(performance_xp)"
   ]
  },
  {
   "cell_type": "code",
   "execution_count": 6,
   "metadata": {},
   "outputs": [
    {
     "name": "stdout",
     "output_type": "stream",
     "text": [
      "Performance in: HATEXPLAIN\n"
     ]
    },
    {
     "data": {
      "text/html": [
       "<div>\n",
       "<style scoped>\n",
       "    .dataframe tbody tr th:only-of-type {\n",
       "        vertical-align: middle;\n",
       "    }\n",
       "\n",
       "    .dataframe tbody tr th {\n",
       "        vertical-align: top;\n",
       "    }\n",
       "\n",
       "    .dataframe thead th {\n",
       "        text-align: right;\n",
       "    }\n",
       "</style>\n",
       "<table border=\"1\" class=\"dataframe\">\n",
       "  <thead>\n",
       "    <tr style=\"text-align: right;\">\n",
       "      <th></th>\n",
       "      <th>Accuracy</th>\n",
       "      <th>Chance</th>\n",
       "      <th>F1</th>\n",
       "      <th>ROC AUC</th>\n",
       "      <th>PR AUC</th>\n",
       "    </tr>\n",
       "  </thead>\n",
       "  <tbody>\n",
       "    <tr>\n",
       "      <th>Toxic_Debias</th>\n",
       "      <td>84.43</td>\n",
       "      <td>76.66</td>\n",
       "      <td>67.36</td>\n",
       "      <td>79.01</td>\n",
       "      <td>52.66</td>\n",
       "    </tr>\n",
       "    <tr>\n",
       "      <th>HybridDocF$_{h}$</th>\n",
       "      <td>79.28</td>\n",
       "      <td>76.66</td>\n",
       "      <td>43.92</td>\n",
       "      <td>78.62</td>\n",
       "      <td>56.17</td>\n",
       "    </tr>\n",
       "    <tr>\n",
       "      <th>HybridLR$_{h}$</th>\n",
       "      <td>83.38</td>\n",
       "      <td>76.66</td>\n",
       "      <td>67.50</td>\n",
       "      <td>87.85</td>\n",
       "      <td>67.78</td>\n",
       "    </tr>\n",
       "    <tr>\n",
       "      <th>HybridMultiNB$_{h}$</th>\n",
       "      <td>85.57</td>\n",
       "      <td>76.66</td>\n",
       "      <td>73.42</td>\n",
       "      <td>91.41</td>\n",
       "      <td>78.80</td>\n",
       "    </tr>\n",
       "  </tbody>\n",
       "</table>\n",
       "</div>"
      ],
      "text/plain": [
       "                     Accuracy  Chance     F1  ROC AUC  PR AUC\n",
       "Toxic_Debias            84.43   76.66  67.36    79.01   52.66\n",
       "HybridDocF$_{h}$        79.28   76.66  43.92    78.62   56.17\n",
       "HybridLR$_{h}$          83.38   76.66  67.50    87.85   67.78\n",
       "HybridMultiNB$_{h}$     85.57   76.66  73.42    91.41   78.80"
      ]
     },
     "metadata": {},
     "output_type": "display_data"
    }
   ],
   "source": [
    "# Table 3: HateXplain\n",
    "dname = 'hatexplain'\n",
    "performance_hx = pd.DataFrame.from_dict(performance[dname], orient='index') \n",
    "print(f'Performance in: {dname.upper()}')\n",
    "display(performance_hx)"
   ]
  },
  {
   "attachments": {},
   "cell_type": "markdown",
   "metadata": {},
   "source": [
    "## Error and Entity Analyses"
   ]
  },
  {
   "cell_type": "code",
   "execution_count": null,
   "metadata": {},
   "outputs": [],
   "source": [
    "# Export csv for error analysis (with predictions and sample columns: errors, trues)\n",
    "id_col , text_col = ['comment_id', 'predict_text']\n",
    "error_analysis_col, model_name = [id_col , text_col] + prediction_cols, r'HybridLR$_{h}$'\n",
    "for dname, data in datasets.items():\n",
    "    error_col, true_col = f'error_sample_{model_name}',\n",
    "    data = sample_error_partition(data, f'{model_name}_y_trues', f'{model_name}_y_preds', id_col, error_col, 100, 0.25)\n",
    "    data = sample_true_partition(f'{model_name}_y_trues', f'{model_name}_y_preds', id_col, true_col, 100, 0.125)\n",
    "    data[error_analysis_col+ [error_col, true_col]].to_csv(os.path.join(PROJ_DIR, ''))\n",
    "\n",
    "# Import xlsx error analysis results and print Table 4s\n"
   ]
  },
  {
   "cell_type": "code",
   "execution_count": null,
   "metadata": {},
   "outputs": [],
   "source": [
    "# Print linguistic markers using functions in helper.\n",
    "\n",
    "# ... import true/error samples\n",
    "\n",
    "# ... find most important features (annotation, model, trues)\n",
    "\n",
    "# ... filter using elbow method\n",
    "\n",
    "# ... manually find missing entities (italics > save only cols interest)\n",
    "\n",
    "# ... print Table 5"
   ]
  }
 ],
 "metadata": {
  "kernelspec": {
   "display_name": "venv",
   "language": "python",
   "name": "python3"
  },
  "language_info": {
   "codemirror_mode": {
    "name": "ipython",
    "version": 3
   },
   "file_extension": ".py",
   "mimetype": "text/x-python",
   "name": "python",
   "nbconvert_exporter": "python",
   "pygments_lexer": "ipython3",
   "version": "3.8.2"
  },
  "orig_nbformat": 4
 },
 "nbformat": 4,
 "nbformat_minor": 2
}
