{
 "cells": [
  {
   "cell_type": "markdown",
   "metadata": {},
   "source": [
    "## Imports"
   ]
  },
  {
   "cell_type": "raw",
   "metadata": {},
   "source": [
    "# Using GPU: \n",
    "!CUDNN_PATH=$(dirname $(python -c \"import nvidia.cudnn;print(nvidia.cudnn.__file__)\"))\n",
    "!export LD_LIBRARY_PATH=$LD_LIBRARY_PATH:$CONDA_PREFIX/lib/:$CUDNN_PATH/lib"
   ]
  },
  {
   "cell_type": "code",
   "execution_count": 1,
   "metadata": {
    "scrolled": false
   },
   "outputs": [
    {
     "name": "stdout",
     "output_type": "stream",
     "text": [
      "/Users/prl222/OneDrive - The Open University/Projects/hate-speech-identities\n",
      "Number of CPU available: 1\n",
      "Set visible PhysicalDevice(name='/physical_device:CPU:0', device_type='CPU')\n"
     ]
    }
   ],
   "source": [
    "import os, glob\n",
    "os.chdir('..') \n",
    "PROJ_DIR = os.getcwd()\n",
    "print(PROJ_DIR)\n",
    "from collections import defaultdict, Counter\n",
    "import pandas as pd\n",
    "from IPython.display import HTML\n",
    "import hate_datasets as dc\n",
    "import kg_adaptation as kg_adapt\n",
    "import identity_group_identification as model_f\n",
    "from functions.helper import get_metrics, sample_error_partition, sample_true_partition\n",
    "from functions.helper import entities_in_categories, find_elbow\n",
    "\n",
    "dnames = ['xtremespeech', 'gabhatecorpus', 'hatexplain']\n",
    "id_col, text_col = 'comment_id', 'predict_text'\n",
    "# Evaluation variables\n",
    "models_folder = os.path.join(PROJ_DIR, 'models')\n",
    "error_entity_folder = os.path.join(PROJ_DIR, 'interpretations')\n",
    "# Limit GPU device: CPU 0, GPU 1 or 2\n",
    "model_f.select_device(device_id=\"0\", device_type='CPU')\n",
    "# model_f.select_device(device_id=\"1\", device_type='GPU')"
   ]
  },
  {
   "cell_type": "markdown",
   "metadata": {},
   "source": [
    "## Train and export hybrid and transformer based models"
   ]
  },
  {
   "cell_type": "code",
   "execution_count": null,
   "metadata": {},
   "outputs": [],
   "source": [
    "! bash notebooks/train_models.sh"
   ]
  },
  {
   "cell_type": "code",
   "execution_count": 2,
   "metadata": {},
   "outputs": [
    {
     "name": "stdout",
     "output_type": "stream",
     "text": [
      " Cross-validation: 7 models\n"
     ]
    }
   ],
   "source": [
    "# Reproduce experiments from experiment pickle file: cross-validation\n",
    "exp_files = sorted(glob.glob(os.path.join(models_folder, '*/*/*/exp_file.pkl')))\n",
    "print(f' Cross-validation: {len(exp_files)} models')"
   ]
  },
  {
   "cell_type": "code",
   "execution_count": 3,
   "metadata": {
    "scrolled": true
   },
   "outputs": [
    {
     "name": "stderr",
     "output_type": "stream",
     "text": [
      "Some layers from the model checkpoint at roberta-base were not used when initializing TFRobertaModel: ['lm_head']\n",
      "- This IS expected if you are initializing TFRobertaModel from the checkpoint of a model trained on another task or with another architecture (e.g. initializing a BertForSequenceClassification model from a BertForPreTraining model).\n",
      "- This IS NOT expected if you are initializing TFRobertaModel from the checkpoint of a model that you expect to be exactly identical (initializing a BertForSequenceClassification model from a BertForSequenceClassification model).\n",
      "All the layers of TFRobertaModel were initialized from the model checkpoint at roberta-base.\n",
      "If your task is similar to the task the model of the checkpoint was trained on, you can already use TFRobertaModel for predictions without further training.\n"
     ]
    },
    {
     "name": "stdout",
     "output_type": "stream",
     "text": [
      " Out-of-domain evaluation: 5 models\n"
     ]
    }
   ],
   "source": [
    "# Import hybrid, transformers, lexical models: out-of-domain evaluation\n",
    "# use with predict function\n",
    "models = []\n",
    "# ... lexical\n",
    "lexicon_path = os.path.join(PROJ_DIR, 'baselines', 'Toxic_Debias', 'word_based_bias_list_pruned.csv')\n",
    "models.append(model_f.toxic_debias_load(lexicon_path=lexicon_path))\n",
    "# ... hybrid (hierarchical)\n",
    "hybrid_models = sorted(glob.glob(os.path.join(models_folder, 'hybrid/gso*/*hierarchical*')))\n",
    "models += [model_f.model_load(hybrid_model) for hybrid_model in hybrid_models]\n",
    "# ... transformers\n",
    "transformer_model = sorted(glob.glob(os.path.join(models_folder, 'llm/gso*/roberta-base')))[0]\n",
    "models.append(model_f.model_load(transformer_model))\n",
    "\n",
    "print(f' Out-of-domain evaluation: {len(models)} models')"
   ]
  },
  {
   "cell_type": "markdown",
   "metadata": {},
   "source": [
    "## Evaluation"
   ]
  },
  {
   "cell_type": "code",
   "execution_count": 4,
   "metadata": {},
   "outputs": [
    {
     "name": "stdout",
     "output_type": "stream",
     "text": [
      "Overall loss: 0.6637\n",
      "Label loss: nan\n",
      "Accuracy by chance: 1.2640\n",
      "Log-odds difference: 0.5411\n",
      "ROC AUC: 0.8638\n",
      "PR AUC: 0.8573\n",
      "F1-score: 0.5063\n",
      "Precision: 0.8434\n",
      "Recall: 0.4310\n",
      "Overall loss: 0.4800\n",
      "Label loss: nan\n",
      "Accuracy by chance: 1.6201\n",
      "Log-odds difference: 1.432\n",
      "ROC AUC: 0.9010\n",
      "PR AUC: 0.8953\n",
      "F1-score: 0.7814\n",
      "Precision: 0.8819\n",
      "Recall: 0.7042\n",
      "Overall loss: 0.3702\n",
      "Label loss: nan\n",
      "Accuracy by chance: 1.7330\n",
      "Log-odds difference: 1.825\n",
      "ROC AUC: 0.9256\n",
      "PR AUC: 0.9269\n",
      "F1-score: 0.8488\n",
      "Precision: 0.8945\n",
      "Recall: 0.8075\n"
     ]
    },
    {
     "name": "stderr",
     "output_type": "stream",
     "text": [
      "/Users/prl222/OneDrive - The Open University/Projects/hate-speech-identities/baselines/target_classification/hate_target/utils.py:82: RuntimeWarning: Mean of empty slice.\n",
      "  print(f\"Label loss: {label_loss.mean():0.4f}\")\n",
      "/Users/prl222/OneDrive - The Open University/Projects/hate-speech-identities/venv2/lib/python3.8/site-packages/numpy/core/_methods.py:188: RuntimeWarning: invalid value encountered in double_scalars\n",
      "  ret = ret.dtype.type(ret / rcount)\n",
      "/Users/prl222/OneDrive - The Open University/Projects/hate-speech-identities/baselines/target_classification/hate_target/utils.py:82: RuntimeWarning: Mean of empty slice.\n",
      "  print(f\"Label loss: {label_loss.mean():0.4f}\")\n",
      "/Users/prl222/OneDrive - The Open University/Projects/hate-speech-identities/venv2/lib/python3.8/site-packages/numpy/core/_methods.py:188: RuntimeWarning: invalid value encountered in double_scalars\n",
      "  ret = ret.dtype.type(ret / rcount)\n",
      "/Users/prl222/OneDrive - The Open University/Projects/hate-speech-identities/baselines/target_classification/hate_target/utils.py:82: RuntimeWarning: Mean of empty slice.\n",
      "  print(f\"Label loss: {label_loss.mean():0.4f}\")\n",
      "/Users/prl222/OneDrive - The Open University/Projects/hate-speech-identities/venv2/lib/python3.8/site-packages/numpy/core/_methods.py:188: RuntimeWarning: invalid value encountered in double_scalars\n",
      "  ret = ret.dtype.type(ret / rcount)\n"
     ]
    },
    {
     "name": "stdout",
     "output_type": "stream",
     "text": [
      "Overall loss: 0.6683\n",
      "Label loss: nan\n",
      "Accuracy by chance: 1.2877\n",
      "Log-odds difference: 0.6047\n",
      "ROC AUC: 0.8302\n",
      "PR AUC: 0.8255\n",
      "F1-score: 0.5056\n",
      "Precision: 0.8506\n",
      "Recall: 0.4007\n",
      "Overall loss: 0.4838\n",
      "Label loss: nan\n",
      "Accuracy by chance: 1.5866\n",
      "Log-odds difference: 1.331\n",
      "ROC AUC: 0.8956\n",
      "PR AUC: 0.8935\n",
      "F1-score: 0.7574\n",
      "Precision: 0.8788\n",
      "Recall: 0.6679\n",
      "Overall loss: 0.3671\n",
      "Label loss: nan\n",
      "Accuracy by chance: 1.7335\n",
      "Log-odds difference: 1.828\n",
      "ROC AUC: 0.9260\n",
      "PR AUC: 0.9277\n",
      "F1-score: 0.8496\n",
      "Precision: 0.8949\n",
      "Recall: 0.8087\n"
     ]
    },
    {
     "name": "stderr",
     "output_type": "stream",
     "text": [
      "/Users/prl222/OneDrive - The Open University/Projects/hate-speech-identities/baselines/target_classification/hate_target/utils.py:82: RuntimeWarning: Mean of empty slice.\n",
      "  print(f\"Label loss: {label_loss.mean():0.4f}\")\n",
      "/Users/prl222/OneDrive - The Open University/Projects/hate-speech-identities/venv2/lib/python3.8/site-packages/numpy/core/_methods.py:188: RuntimeWarning: invalid value encountered in double_scalars\n",
      "  ret = ret.dtype.type(ret / rcount)\n",
      "/Users/prl222/OneDrive - The Open University/Projects/hate-speech-identities/baselines/target_classification/hate_target/utils.py:82: RuntimeWarning: Mean of empty slice.\n",
      "  print(f\"Label loss: {label_loss.mean():0.4f}\")\n",
      "/Users/prl222/OneDrive - The Open University/Projects/hate-speech-identities/venv2/lib/python3.8/site-packages/numpy/core/_methods.py:188: RuntimeWarning: invalid value encountered in double_scalars\n",
      "  ret = ret.dtype.type(ret / rcount)\n",
      "/Users/prl222/OneDrive - The Open University/Projects/hate-speech-identities/baselines/target_classification/hate_target/utils.py:82: RuntimeWarning: Mean of empty slice.\n",
      "  print(f\"Label loss: {label_loss.mean():0.4f}\")\n",
      "/Users/prl222/OneDrive - The Open University/Projects/hate-speech-identities/venv2/lib/python3.8/site-packages/numpy/core/_methods.py:188: RuntimeWarning: invalid value encountered in double_scalars\n",
      "  ret = ret.dtype.type(ret / rcount)\n"
     ]
    },
    {
     "name": "stdout",
     "output_type": "stream",
     "text": [
      "Overall loss: 0.2068\n",
      "Label loss: nan\n",
      "Accuracy by chance: 1.8578\n",
      "Log-odds difference: 2.476\n",
      "ROC AUC: 0.9770\n",
      "PR AUC: 0.9772\n",
      "F1-score: 0.9161\n",
      "Precision: 0.9367\n",
      "Recall: 0.8963\n"
     ]
    },
    {
     "name": "stderr",
     "output_type": "stream",
     "text": [
      "/Users/prl222/OneDrive - The Open University/Projects/hate-speech-identities/baselines/target_classification/hate_target/utils.py:82: RuntimeWarning: Mean of empty slice.\n",
      "  print(f\"Label loss: {label_loss.mean():0.4f}\")\n",
      "/Users/prl222/OneDrive - The Open University/Projects/hate-speech-identities/venv2/lib/python3.8/site-packages/numpy/core/_methods.py:188: RuntimeWarning: invalid value encountered in double_scalars\n",
      "  ret = ret.dtype.type(ret / rcount)\n"
     ]
    },
    {
     "data": {
      "image/png": "[encoded data removed]",
      "text/plain": [
       "<Figure size 1008x288 with 2 Axes>"
      ]
     },
     "metadata": {
      "needs_background": "light"
     },
     "output_type": "display_data"
    }
   ],
   "source": [
    "# 1. Cross-validation results: all with stem\n",
    "model_names_cv = [r'HybridDocF$_{h}$', \n",
    "                  r'HybridLR$_{h}$', \n",
    "                  r'HybridMultiNB$_{h}$', \n",
    "                  r'HybridDocF', \n",
    "                  r'HybridLR', \n",
    "                  r'HybridMultiNB', \n",
    "                  r'RoBERTa$_{base}$']\n",
    "\n",
    "model_f.plot_cv_from_exp_files(exp_files, 'target_gso', model_names_cv, models_folder)"
   ]
  },
  {
   "cell_type": "code",
   "execution_count": 5,
   "metadata": {
    "scrolled": true
   },
   "outputs": [
    {
     "name": "stdout",
     "output_type": "stream",
     "text": [
      "\n",
      "GABHATECORPUS\n",
      "gabhatecorpus imported successfully from data folder: 7813 annotations samples.\n",
      "Toxic_Debias\n",
      "HybridDocF$_{h}$\n",
      "Starting predictions on: ['target_gso']\n",
      "indexed 7813 documents\n",
      "... feature extraction\n",
      "977/977 [==============================] - 2s 1ms/step\n",
      "... classification\n",
      "   uni-output model\n",
      "HybridLR$_{h}$\n",
      "Starting predictions on: ['target_gso']\n",
      "indexed 7813 documents\n",
      "... feature extraction\n",
      "977/977 [==============================] - 1s 1ms/step\n",
      "... classification\n",
      "   uni-output model\n",
      "HybridMultiNB$_{h}$\n",
      "Starting predictions on: ['target_gso']\n",
      "indexed 7813 documents\n",
      "... feature extraction\n",
      "977/977 [==============================] - 1s 1ms/step\n",
      "... classification\n",
      "   uni-output model\n",
      "RoBERTa$_{base}$\n",
      "Starting predictions on: ['target_gso']\n",
      "... feature extraction\n",
      "977/977 [==============================] - 2731s 3s/step\n",
      "... classification\n",
      "   uni-output model\n",
      "\n",
      "XTREMESPEECH\n",
      "xtremespeech imported successfully from data folder: 5063 annotations samples.\n",
      "... 2639 english texts.\n",
      "Toxic_Debias\n",
      "HybridDocF$_{h}$\n",
      "Starting predictions on: ['target_gso']\n",
      "indexed 2639 documents\n",
      "... feature extraction\n",
      "330/330 [==============================] - 1s 1ms/step\n",
      "... classification\n",
      "   uni-output model\n",
      "HybridLR$_{h}$\n",
      "Starting predictions on: ['target_gso']\n",
      "indexed 2639 documents\n",
      "... feature extraction\n",
      "330/330 [==============================] - 0s 1ms/step\n",
      "... classification\n",
      "   uni-output model\n",
      "HybridMultiNB$_{h}$\n",
      "Starting predictions on: ['target_gso']\n",
      "indexed 2639 documents\n",
      "... feature extraction\n",
      "330/330 [==============================] - 0s 1ms/step\n",
      "... classification\n",
      "   uni-output model\n",
      "RoBERTa$_{base}$\n",
      "Starting predictions on: ['target_gso']\n",
      "... feature extraction\n",
      "330/330 [==============================] - 971s 3s/step\n",
      "... classification\n",
      "   uni-output model\n",
      "\n",
      "HATEXPLAIN\n",
      "hatexplain imported successfully from data folder: 12334 annotations samples.\n",
      "Toxic_Debias\n",
      "HybridDocF$_{h}$\n",
      "Starting predictions on: ['target_gso']\n",
      "indexed 12334 documents\n",
      "... feature extraction\n",
      "1542/1542 [==============================] - 3s 1ms/step\n",
      "... classification\n",
      "   uni-output model\n",
      "HybridLR$_{h}$\n",
      "Starting predictions on: ['target_gso']\n",
      "indexed 12334 documents\n",
      "... feature extraction\n",
      "1542/1542 [==============================] - 2s 1ms/step\n",
      "... classification\n",
      "   uni-output model\n",
      "HybridMultiNB$_{h}$\n",
      "Starting predictions on: ['target_gso']\n",
      "indexed 12334 documents\n",
      "... feature extraction\n",
      "1542/1542 [==============================] - 3s 1ms/step\n",
      "... classification\n",
      "   uni-output model\n",
      "RoBERTa$_{base}$\n",
      "Starting predictions on: ['target_gso']\n",
      "... feature extraction\n",
      "1542/1542 [==============================] - 3549s 2s/step\n",
      "... classification\n",
      "   uni-output model\n"
     ]
    }
   ],
   "source": [
    "# 2. Out-of-domain evaluation\n",
    "model_names = ['Toxic_Debias', r'HybridDocF$_{h}$', r'HybridLR$_{h}$', r'HybridMultiNB$_{h}$', r'RoBERTa$_{base}$']\n",
    "identity_col = 'target_gso'\n",
    "performance, datasets = defaultdict(lambda: defaultdict(dict)), {}\n",
    "for dname in ['gabhatecorpus', 'xtremespeech', 'hatexplain']:\n",
    "    print(f'\\n{dname.upper()}')\n",
    "    df, text_col0, id_col0, identities_dict = dc.import_dataset(dname)\n",
    "    data, target_cols, text_col, id_col = dc.prepare_for_model_evaluation(\n",
    "        df, text_col0, id_col0, identities_dict\n",
    "    )\n",
    "    if dname == 'xtremespeech':\n",
    "        # Include only texts in English\n",
    "        data = data.loc[data['Language'] == 'English'].reset_index(drop=True).copy()\n",
    "        print(f'... {data.shape[0]} english texts.')\n",
    "    # use model_predict for hybrid and transformers, and lexical-based functions.\n",
    "    for model_name, model in zip(model_names, models):\n",
    "        print(model_name)\n",
    "        if model_name == 'Toxic_Debias':\n",
    "            y_trues = data[identity_col].values\n",
    "            y_preds, matches = model_f.toxic_debias_predict(model, data, text_col)\n",
    "            metrics = {m: v[0] for m, v in get_metrics([y_trues], [y_preds], [y_preds]).items()}\n",
    "            performance[dname][model_name] =  metrics\n",
    "            data[f'{model_name}_y_trues'] = y_trues\n",
    "            data[f'{model_name}_y_preds'] = y_preds\n",
    "            data[f'{model_name}_matches'] = matches\n",
    "        else:\n",
    "            y_trues, y_preds, interpretations = model_f.model_predict(model, data, identity_col, text_col, id_col)\n",
    "            y_preds_hard = y_preds >= 0.5\n",
    "            metrics = {m: v[0] for m, v in get_metrics([y_trues], [y_preds_hard], [y_preds]).items()}\n",
    "            performance[dname][model_name] =  metrics\n",
    "            if model_name == r'HybridLR$_{h}$':\n",
    "                # ... save KG interpretations for best performing hybrid model\n",
    "                data[f'{model_name}_y_trues'] = y_trues\n",
    "                data[f'{model_name}_y_preds'] = y_preds\n",
    "                interpretation_cols = [f'{model_name}_{c}' for c in ['pos_matches', 'neg_matches', 'high_syns']]\n",
    "                for i, c in enumerate(interpretation_cols):\n",
    "                    data[c] = interpretations[i]\n",
    "            if model_name == r'RoBERTa$_{base}$':\n",
    "                data[f'{model_name}_y_trues'] = y_trues\n",
    "                data[f'{model_name}_y_preds'] = y_preds\n",
    "    prediction_cols = data.columns[-9:].to_list()\n",
    "    datasets[dname] = data.copy()"
   ]
  },
  {
   "cell_type": "code",
   "execution_count": 6,
   "metadata": {},
   "outputs": [],
   "source": [
    "# Docker: GPU not found\n",
    "# server cond env GPU/CPU: kg dict frozen (Python 3.8.2, kernel)\n",
    "# server venv GPU/CPU: kg dict frozen (Python 3.9)"
   ]
  },
  {
   "cell_type": "code",
   "execution_count": 7,
   "metadata": {},
   "outputs": [
    {
     "name": "stdout",
     "output_type": "stream",
     "text": [
      "Performance in: GABHATECORPUS\n"
     ]
    },
    {
     "data": {
      "text/html": [
       "<div>\n",
       "<style scoped>\n",
       "    .dataframe tbody tr th:only-of-type {\n",
       "        vertical-align: middle;\n",
       "    }\n",
       "\n",
       "    .dataframe tbody tr th {\n",
       "        vertical-align: top;\n",
       "    }\n",
       "\n",
       "    .dataframe thead th {\n",
       "        text-align: right;\n",
       "    }\n",
       "</style>\n",
       "<table border=\"1\" class=\"dataframe\">\n",
       "  <thead>\n",
       "    <tr style=\"text-align: right;\">\n",
       "      <th></th>\n",
       "      <th>Accuracy</th>\n",
       "      <th>Chance</th>\n",
       "      <th>F1</th>\n",
       "      <th>ROC AUC</th>\n",
       "      <th>PR AUC</th>\n",
       "    </tr>\n",
       "  </thead>\n",
       "  <tbody>\n",
       "    <tr>\n",
       "      <th>Toxic_Debias</th>\n",
       "      <td>91.81</td>\n",
       "      <td>88.97</td>\n",
       "      <td>58.82</td>\n",
       "      <td>74.82</td>\n",
       "      <td>40.20</td>\n",
       "    </tr>\n",
       "    <tr>\n",
       "      <th>HybridDocF$_{h}$</th>\n",
       "      <td>91.21</td>\n",
       "      <td>88.97</td>\n",
       "      <td>51.17</td>\n",
       "      <td>84.48</td>\n",
       "      <td>54.44</td>\n",
       "    </tr>\n",
       "    <tr>\n",
       "      <th>HybridLR$_{h}$</th>\n",
       "      <td>90.63</td>\n",
       "      <td>88.97</td>\n",
       "      <td>62.42</td>\n",
       "      <td>89.37</td>\n",
       "      <td>64.45</td>\n",
       "    </tr>\n",
       "    <tr>\n",
       "      <th>HybridMultiNB$_{h}$</th>\n",
       "      <td>89.48</td>\n",
       "      <td>88.97</td>\n",
       "      <td>61.52</td>\n",
       "      <td>90.13</td>\n",
       "      <td>68.42</td>\n",
       "    </tr>\n",
       "    <tr>\n",
       "      <th>RoBERTa$_{base}$</th>\n",
       "      <td>88.85</td>\n",
       "      <td>88.97</td>\n",
       "      <td>61.55</td>\n",
       "      <td>93.06</td>\n",
       "      <td>70.32</td>\n",
       "    </tr>\n",
       "  </tbody>\n",
       "</table>\n",
       "</div>"
      ],
      "text/plain": [
       "                     Accuracy  Chance     F1  ROC AUC  PR AUC\n",
       "Toxic_Debias            91.81   88.97  58.82    74.82   40.20\n",
       "HybridDocF$_{h}$        91.21   88.97  51.17    84.48   54.44\n",
       "HybridLR$_{h}$          90.63   88.97  62.42    89.37   64.45\n",
       "HybridMultiNB$_{h}$     89.48   88.97  61.52    90.13   68.42\n",
       "RoBERTa$_{base}$        88.85   88.97  61.55    93.06   70.32"
      ]
     },
     "metadata": {},
     "output_type": "display_data"
    }
   ],
   "source": [
    "# Table 3: Gab Hate Corpus\n",
    "dname = 'gabhatecorpus'\n",
    "performance_ghc = pd.DataFrame.from_dict(performance[dname], orient='index') \n",
    "print(f'Performance in: {dname.upper()}')\n",
    "display(performance_ghc)"
   ]
  },
  {
   "cell_type": "code",
   "execution_count": 8,
   "metadata": {},
   "outputs": [
    {
     "name": "stdout",
     "output_type": "stream",
     "text": [
      "Performance in: XTREMESPEECH\n"
     ]
    },
    {
     "data": {
      "text/html": [
       "<div>\n",
       "<style scoped>\n",
       "    .dataframe tbody tr th:only-of-type {\n",
       "        vertical-align: middle;\n",
       "    }\n",
       "\n",
       "    .dataframe tbody tr th {\n",
       "        vertical-align: top;\n",
       "    }\n",
       "\n",
       "    .dataframe thead th {\n",
       "        text-align: right;\n",
       "    }\n",
       "</style>\n",
       "<table border=\"1\" class=\"dataframe\">\n",
       "  <thead>\n",
       "    <tr style=\"text-align: right;\">\n",
       "      <th></th>\n",
       "      <th>Accuracy</th>\n",
       "      <th>Chance</th>\n",
       "      <th>F1</th>\n",
       "      <th>ROC AUC</th>\n",
       "      <th>PR AUC</th>\n",
       "    </tr>\n",
       "  </thead>\n",
       "  <tbody>\n",
       "    <tr>\n",
       "      <th>Toxic_Debias</th>\n",
       "      <td>94.01</td>\n",
       "      <td>93.22</td>\n",
       "      <td>52.41</td>\n",
       "      <td>72.96</td>\n",
       "      <td>31.12</td>\n",
       "    </tr>\n",
       "    <tr>\n",
       "      <th>HybridDocF$_{h}$</th>\n",
       "      <td>93.86</td>\n",
       "      <td>93.22</td>\n",
       "      <td>53.45</td>\n",
       "      <td>86.73</td>\n",
       "      <td>46.49</td>\n",
       "    </tr>\n",
       "    <tr>\n",
       "      <th>HybridLR$_{h}$</th>\n",
       "      <td>90.79</td>\n",
       "      <td>93.22</td>\n",
       "      <td>49.27</td>\n",
       "      <td>88.34</td>\n",
       "      <td>50.80</td>\n",
       "    </tr>\n",
       "    <tr>\n",
       "      <th>HybridMultiNB$_{h}$</th>\n",
       "      <td>90.19</td>\n",
       "      <td>93.22</td>\n",
       "      <td>47.25</td>\n",
       "      <td>87.39</td>\n",
       "      <td>51.77</td>\n",
       "    </tr>\n",
       "    <tr>\n",
       "      <th>RoBERTa$_{base}$</th>\n",
       "      <td>92.99</td>\n",
       "      <td>93.22</td>\n",
       "      <td>57.67</td>\n",
       "      <td>93.67</td>\n",
       "      <td>57.38</td>\n",
       "    </tr>\n",
       "  </tbody>\n",
       "</table>\n",
       "</div>"
      ],
      "text/plain": [
       "                     Accuracy  Chance     F1  ROC AUC  PR AUC\n",
       "Toxic_Debias            94.01   93.22  52.41    72.96   31.12\n",
       "HybridDocF$_{h}$        93.86   93.22  53.45    86.73   46.49\n",
       "HybridLR$_{h}$          90.79   93.22  49.27    88.34   50.80\n",
       "HybridMultiNB$_{h}$     90.19   93.22  47.25    87.39   51.77\n",
       "RoBERTa$_{base}$        92.99   93.22  57.67    93.67   57.38"
      ]
     },
     "metadata": {},
     "output_type": "display_data"
    }
   ],
   "source": [
    "# Table 3: XtremeSpeech\n",
    "dname = 'xtremespeech'\n",
    "performance_xp = pd.DataFrame.from_dict(performance[dname], orient='index') \n",
    "print(f'Performance in: {dname.upper()}')\n",
    "display(performance_xp)"
   ]
  },
  {
   "cell_type": "code",
   "execution_count": 9,
   "metadata": {
    "scrolled": true
   },
   "outputs": [
    {
     "name": "stdout",
     "output_type": "stream",
     "text": [
      "Performance in: HATEXPLAIN\n"
     ]
    },
    {
     "data": {
      "text/html": [
       "<div>\n",
       "<style scoped>\n",
       "    .dataframe tbody tr th:only-of-type {\n",
       "        vertical-align: middle;\n",
       "    }\n",
       "\n",
       "    .dataframe tbody tr th {\n",
       "        vertical-align: top;\n",
       "    }\n",
       "\n",
       "    .dataframe thead th {\n",
       "        text-align: right;\n",
       "    }\n",
       "</style>\n",
       "<table border=\"1\" class=\"dataframe\">\n",
       "  <thead>\n",
       "    <tr style=\"text-align: right;\">\n",
       "      <th></th>\n",
       "      <th>Accuracy</th>\n",
       "      <th>Chance</th>\n",
       "      <th>F1</th>\n",
       "      <th>ROC AUC</th>\n",
       "      <th>PR AUC</th>\n",
       "    </tr>\n",
       "  </thead>\n",
       "  <tbody>\n",
       "    <tr>\n",
       "      <th>Toxic_Debias</th>\n",
       "      <td>84.43</td>\n",
       "      <td>76.66</td>\n",
       "      <td>67.36</td>\n",
       "      <td>79.01</td>\n",
       "      <td>52.66</td>\n",
       "    </tr>\n",
       "    <tr>\n",
       "      <th>HybridDocF$_{h}$</th>\n",
       "      <td>79.34</td>\n",
       "      <td>76.66</td>\n",
       "      <td>43.75</td>\n",
       "      <td>78.50</td>\n",
       "      <td>55.98</td>\n",
       "    </tr>\n",
       "    <tr>\n",
       "      <th>HybridLR$_{h}$</th>\n",
       "      <td>83.45</td>\n",
       "      <td>76.66</td>\n",
       "      <td>67.72</td>\n",
       "      <td>88.12</td>\n",
       "      <td>68.29</td>\n",
       "    </tr>\n",
       "    <tr>\n",
       "      <th>HybridMultiNB$_{h}$</th>\n",
       "      <td>85.61</td>\n",
       "      <td>76.66</td>\n",
       "      <td>73.54</td>\n",
       "      <td>91.39</td>\n",
       "      <td>78.35</td>\n",
       "    </tr>\n",
       "    <tr>\n",
       "      <th>RoBERTa$_{base}$</th>\n",
       "      <td>89.91</td>\n",
       "      <td>76.66</td>\n",
       "      <td>80.22</td>\n",
       "      <td>95.60</td>\n",
       "      <td>86.46</td>\n",
       "    </tr>\n",
       "  </tbody>\n",
       "</table>\n",
       "</div>"
      ],
      "text/plain": [
       "                     Accuracy  Chance     F1  ROC AUC  PR AUC\n",
       "Toxic_Debias            84.43   76.66  67.36    79.01   52.66\n",
       "HybridDocF$_{h}$        79.34   76.66  43.75    78.50   55.98\n",
       "HybridLR$_{h}$          83.45   76.66  67.72    88.12   68.29\n",
       "HybridMultiNB$_{h}$     85.61   76.66  73.54    91.39   78.35\n",
       "RoBERTa$_{base}$        89.91   76.66  80.22    95.60   86.46"
      ]
     },
     "metadata": {},
     "output_type": "display_data"
    }
   ],
   "source": [
    "# Table 3: HateXplain\n",
    "dname = 'hatexplain'\n",
    "performance_hx = pd.DataFrame.from_dict(performance[dname], orient='index') \n",
    "print(f'Performance in: {dname.upper()}')\n",
    "display(performance_hx)"
   ]
  },
  {
   "cell_type": "code",
   "execution_count": 10,
   "metadata": {
    "scrolled": true
   },
   "outputs": [
    {
     "data": {
      "text/plain": [
       "['Toxic_Debias_y_preds',\n",
       " 'Toxic_Debias_matches',\n",
       " 'HybridLR$_{h}$_y_trues',\n",
       " 'HybridLR$_{h}$_y_preds',\n",
       " 'HybridLR$_{h}$_pos_matches',\n",
       " 'HybridLR$_{h}$_neg_matches',\n",
       " 'HybridLR$_{h}$_high_syns',\n",
       " 'RoBERTa$_{base}$_y_trues',\n",
       " 'RoBERTa$_{base}$_y_preds']"
      ]
     },
     "execution_count": 10,
     "metadata": {},
     "output_type": "execute_result"
    }
   ],
   "source": [
    "prediction_cols"
   ]
  },
  {
   "cell_type": "markdown",
   "metadata": {},
   "source": [
    "## Error and Entity Analyses"
   ]
  },
  {
   "cell_type": "code",
   "execution_count": 11,
   "metadata": {},
   "outputs": [],
   "source": [
    "error_analysis_col, model_name = [id_col] + prediction_cols, r'HybridLR$_{h}$'\n",
    "error_col, true_col = f'error_sample_{model_name}', f'true_sample_{model_name}'"
   ]
  },
  {
   "cell_type": "code",
   "execution_count": 12,
   "metadata": {
    "scrolled": true
   },
   "outputs": [
    {
     "name": "stdout",
     "output_type": "stream",
     "text": [
      "GABHATECORPUS\n",
      " adding 25 samples\n",
      " adding 25 samples\n",
      " adding 25 samples\n",
      " adding 25 samples\n",
      " adding 25 samples\n",
      " adding 25 samples\n",
      " adding 25 samples\n",
      " adding 25 samples\n",
      "XTREMESPEECH\n",
      " adding 4 samples\n",
      " adding 25 samples\n",
      " adding 25 samples\n",
      " adding 25 samples\n",
      " adding 16 samples\n",
      " adding 20 samples\n",
      " adding 25 samples\n",
      " adding 25 samples\n",
      "HATEXPLAIN\n",
      " adding 25 samples\n",
      " adding 25 samples\n",
      " adding 25 samples\n",
      " adding 25 samples\n",
      " adding 25 samples\n",
      " adding 25 samples\n",
      " adding 25 samples\n",
      " adding 25 samples\n"
     ]
    }
   ],
   "source": [
    "# Export csv for error analysis (with predictions and sample columns: errors, trues)\n",
    "for dname, data in datasets.items():\n",
    "    print(dname.upper())\n",
    "    data = sample_error_partition(data, f'{model_name}_y_trues', f'{model_name}_y_preds', id_col, error_col, 100, 0.25)\n",
    "    data = sample_true_partition(data, f'{model_name}_y_trues', f'{model_name}_y_preds', id_col, true_col, 100, 0.125)\n",
    "    data[error_analysis_col+[error_col, true_col]].to_csv(os.path.join(models_folder, 'interpretations', f'{dname}_predictions.csv'), index=False)"
   ]
  },
  {
   "cell_type": "code",
   "execution_count": 13,
   "metadata": {
    "scrolled": true
   },
   "outputs": [
    {
     "name": "stdout",
     "output_type": "stream",
     "text": [
      "TABLE 4\n",
      "***********************\n",
      "FP Errors:\n",
      "strong demographic descriptor (annotation)    117\n",
      "targeted language (annotation)                 20\n",
      "weak demographic descriptor (annotation)       10\n",
      "false match method driven                       3\n",
      "Name: Error_Categories, dtype: int64\n",
      "\n",
      "FN Errors:\n",
      "method under-representation    50\n",
      "no reference                   26\n",
      "missed content driven          19\n",
      "method noise                   12\n",
      "method incomplete              11\n",
      "method less distinctive         7\n",
      "method black-box                4\n",
      "method noise                    1\n",
      "Name: Error_Categories, dtype: int64\n"
     ]
    }
   ],
   "source": [
    "# Import xlsx error analysis results and print Table 4\n",
    "categories_col = 'Error_Categories'\n",
    "error_samples, true_samples = [], []\n",
    "for dname in dnames:\n",
    "    data = pd.read_excel(os.path.join(models_folder, 'interpretations', 'error_analysis', f'{dname}_predictions.xlsx'))\n",
    "    data['dataset'] = [f'{dname}'] * data.shape[0]\n",
    "    error_sample, true_sample = data.loc[data[error_col] == 1].copy(), data.loc[data[true_col] == 1].copy()\n",
    "    error_samples.append(error_sample)\n",
    "    true_samples.append(true_sample)\n",
    "error_sample = pd.concat(error_samples)\n",
    "fp, fn = error_sample.loc[error_sample['HybridLR$_{h}$_y_trues']==0], error_sample.loc[error_sample['HybridLR$_{h}$_y_trues']==1]\n",
    "print(f'TABLE 4\\n{\"*\"*23}')\n",
    "print(f'FP Errors:\\n{fp[categories_col].value_counts()}')\n",
    "print('')\n",
    "print(f'FN Errors:\\n{fn[categories_col].value_counts()}')"
   ]
  },
  {
   "cell_type": "code",
   "execution_count": 14,
   "metadata": {
    "scrolled": true
   },
   "outputs": [
    {
     "name": "stdout",
     "output_type": "stream",
     "text": [
      "xtremespeech     50\n",
      "hatexplain       50\n",
      "gabhatecorpus    47\n",
      "Name: dataset, dtype: int64\n",
      "hatexplain       23\n",
      "gabhatecorpus    21\n",
      "xtremespeech     13\n",
      "Name: dataset, dtype: int64\n",
      "ALL MATCHES\n",
      "***********************\n",
      "  annotation:\n",
      "[('woman', 74), ('man', 47), ('singular they', 19), ('hers', 19), ('her', 19), (\"her'n\", 19), ('white identity', 17), ('womanism', 16), (\"y'all\", 15), ('World Health Organization', 14)]\n",
      "  model:\n",
      "[('singular they', 20), ('person', 13), ('World Health Organization', 11), ('justice', 10), (\"y'all\", 9), ('fuck', 8), ('she', 8), ('saying', 8), ('life', 8), ('country', 7)]\n",
      "  trues:\n",
      "[('woman', 115), ('man', 60), ('singular they', 43), ('faggot', 41), ('she', 38), ('hers', 38), ('her', 38), (\"her'n\", 38), ('World Health Organization', 37), ('bitch', 34)]\n",
      "Feature Importance\n",
      "***********************\n",
      "  annotation:\n",
      "[('woman', 7.7, 74), ('man', 7.63, 47), ('LGBT', 5.97, 1), ('woman of color', 4.83, 1), ('.lgbt', 4.39, 1), ('man who has sex with men', 4.33, 1), ('r/lgbt', 4.19, 1), ('male gender identity', 4.13, 4), ('female gender identity', 3.89, 2), ('.gay', 3.49, 7)]\n",
      "  model:\n",
      "[('man who has sex with men', 4.33, 1), ('feminist', 2.48, 1), ('continuant', 2.1, 1), ('marriage', 2.0, 2), ('suicide', 1.74, 1), ('person', 1.7, 13), ('homophobia', 1.64, 1), ('identity', 1.62, 1), ('person who menstruates', 1.59, 1), ('sex', 1.54, 1)]\n",
      "  trues:\n",
      "[('woman', 7.7, 115), ('man', 7.63, 60), ('LGBTQ', 6.04, 1), ('LGBT', 5.97, 2), ('.lgbt', 4.39, 2), ('man who has sex with men', 4.33, 1), ('r/lgbt', 4.19, 2), ('male gender identity', 4.13, 4), ('lesbian woman', 3.97, 1), ('female gender identity', 3.89, 8)]\n"
     ]
    }
   ],
   "source": [
    "# Print linguistic markers using functions in helper: Table 5\n",
    "\n",
    "# ... import true/error samples\n",
    "true_sample=pd.concat(true_samples)\n",
    "\n",
    "# ... find most important features (annotation, model, trues)\n",
    "all_matches, entity_weights, disc_entities = {}, {}, {}\n",
    "err_types = {'annot': ['demographic descriptor', 'targeted language'],\n",
    "             'model': ['method under-representation', 'method less distinctive']}\n",
    "all_matches['annotation'] = entities_in_categories(fp, err_types['annot'], categories_col, id_col, model_name)\n",
    "all_matches['model'] = entities_in_categories(fn, err_types['model'], categories_col, id_col, model_name)\n",
    "all_matches['trues'] = [entity for pos_entities in true_sample[f'{model_name}_pos_matches'].dropna().to_list()\n",
    "                        for entity in pos_entities.split(';')]\n",
    "print(f'ALL MATCHES\\n{\"*\"*23}')\n",
    "for sample, entities in all_matches.items():\n",
    "    all_matches[sample] = Counter(entities).most_common()\n",
    "    print(f'  {sample}:\\n{all_matches[sample][:10]}')\n",
    "\n",
    "print(f'Feature Importance\\n{\"*\"*23}')\n",
    "weights_dict, exclude = model_f.get_vocab_weights(models[model_names.index(model_name)])\n",
    "for sample, entities_count in all_matches.items():\n",
    "    entity_weights[sample] = sorted([(entity, weights_dict[entity], count) for entity, count in entities_count if entity not in exclude], \n",
    "                                     key=lambda x: (-x[1], -x[2]))\n",
    "    print(f'  {sample}:\\n{entity_weights[sample][:10]}')\n"
   ]
  },
  {
   "cell_type": "code",
   "execution_count": 19,
   "metadata": {},
   "outputs": [
    {
     "name": "stdout",
     "output_type": "stream",
     "text": [
      "Filtered by Elbow\n",
      "***********************\n",
      "  annotation:\n",
      "['woman', 'man', 'LGBT', 'woman of color', '.lgbt', 'man who has sex with men', 'r/lgbt', 'male gender identity', 'female gender identity', '.gay', 'gay', 'gay person', 'heterosexual', 'homosexuality', 'feminist', 'lesbian', 'asexual and homoromantic person', 'gai', 'employment', 'A-Gay', 'gay identity', 'human homosexuality', 'queer sexual orientation', 'ability', 'continuant', 'transgender', 'same-gender marriage', 'marriage', 'interpersonal orientation', 'womanism', 'lesbian identity', 'sexuality', 'person', 'homosexualism', 'personal identity', 'lesbianism', 'homophobia', 'queer identity', 'user', 'person with a pedophilic disorder', 'single person', 'abusive person', 'sex', 'member of an organization', 'exposure', 'interpersonal attraction', 'murder victim', 'information content entity']\n",
      "  model:\n",
      "['man who has sex with men', 'feminist', 'continuant', 'marriage', 'suicide', 'person', 'homophobia', 'identity', 'person who menstruates', 'sex', 'diversity', 'interracial marriage', 'person with a disability', 'sex work client']\n",
      "  trues:\n",
      "['woman', 'man', 'LGBTQ', 'LGBT', '.lgbt', 'man who has sex with men', 'r/lgbt', 'male gender identity', 'lesbian woman', 'female gender identity', 'gay man', '.gay', 'transgender person', 'Black man', 'gay', 'homo', 'gay person', 'gender', 'heterosexual', 'homosexuality', 'feminist', 'lesbian', 'asexual and homoromantic person', 'gai', 'object', 'A-Gay', 'heterosexual person', 'gay identity', 'human homosexuality', 'sak veng', 'queer sexual orientation', 'cause of death', 'ability', 'transgender', 'same-gender marriage', 'marriage', 'transgenderism', 'heterosexuality', 'womanism', 'pederasty', 'lesbian identity', 'sexuality', 'advocate', 'suicide', 'heterosexual identity', 'person', 'homosexualism', 'lesbianism', 'personal identity', 'style', 'homophobia', 'queer identity', 'person who menstruates', 'mixed-orientation marriage', 'user', 'person with a pedophilic disorder', 'single person']\n",
      "annotation: 150 missed.\n",
      "model: 130 missed.\n",
      "trues: 286 missed.\n",
      "TABLE 5: \n",
      "***********************\n",
      "annotation: 45\n",
      "model: 35\n",
      "trues: 62\n"
     ]
    },
    {
     "data": {
      "text/html": [
       "<div>\n",
       "<style scoped>\n",
       "    .dataframe tbody tr th:only-of-type {\n",
       "        vertical-align: middle;\n",
       "    }\n",
       "\n",
       "    .dataframe tbody tr th {\n",
       "        vertical-align: top;\n",
       "    }\n",
       "\n",
       "    .dataframe thead th {\n",
       "        text-align: right;\n",
       "    }\n",
       "</style>\n",
       "<table border=\"1\" class=\"dataframe\">\n",
       "  <thead>\n",
       "    <tr style=\"text-align: right;\">\n",
       "      <th></th>\n",
       "      <th>0</th>\n",
       "    </tr>\n",
       "  </thead>\n",
       "  <tbody>\n",
       "    <tr>\n",
       "      <th>annotation</th>\n",
       "      <td>woman, man, LGBT, woman of color, .lgbt, man who has sex with men, r/lgbt, male gender identity, female gender identity, .gay, gay, gay person, heterosexual, homosexuality, feminist, lesbian, asexual and homoromantic person, gai, A-Gay, gay identity, human homosexuality, queer sexual orientation, transgender, same-gender marriage, marriage, interpersonal orientation, womanism, lesbian identity, sexuality, homosexualism, personal identity, lesbianism, homophobia, queer identity, single person, abusive person, sex, interpersonal attraction, murder victim, partner, faggot, semen, pussy, hers, bitch</td>\n",
       "    </tr>\n",
       "    <tr>\n",
       "      <th>model</th>\n",
       "      <td>man who has sex with men, feminist, marriage, homophobia, person who menstruates, sex, interracial marriage, sex work client, marital partner, parent, sex worker, fag, faggot, rapist, female gender role, pussy, abortion, morphological enlargement, hers, vagina, thot, penis, rape, domestic violence, she, bimbo, sexual abstinence, cunt, bitch, he, whore, slut, fuck, Mrs., rainbow flag</td>\n",
       "    </tr>\n",
       "    <tr>\n",
       "      <th>trues</th>\n",
       "      <td>woman, man, LGBTQ, LGBT, .lgbt, man who has sex with men, r/lgbt, male gender identity, lesbian woman, female gender identity, gay man, .gay, transgender person, Black man, gay, homo, gay person, gender, heterosexual, homosexuality, feminist, lesbian, asexual and homoromantic person, gai, A-Gay, heterosexual person, gay identity, human homosexuality, sak veng, queer sexual orientation, transgender, same-gender marriage, marriage, transgenderism, heterosexuality, womanism, pederasty, lesbian identity, sexuality, heterosexual identity, homosexualism, lesbianism, personal identity, homophobia, queer identity, person who menstruates, mixed-orientation marriage, single person, sex, feminism, partner, marital partner, sex worker, fag, faggot, masculism, pussy, hers, thot, rape, menstruation, bitch</td>\n",
       "    </tr>\n",
       "  </tbody>\n",
       "</table>\n",
       "</div>"
      ],
      "text/plain": [
       "                                                                                                                                                                                                                                                                                                                                                                                                                                                                                                                                                                                                                                                                                                                                                                                                                                             0\n",
       "annotation                                                                                                                                                                                                          woman, man, LGBT, woman of color, .lgbt, man who has sex with men, r/lgbt, male gender identity, female gender identity, .gay, gay, gay person, heterosexual, homosexuality, feminist, lesbian, asexual and homoromantic person, gai, A-Gay, gay identity, human homosexuality, queer sexual orientation, transgender, same-gender marriage, marriage, interpersonal orientation, womanism, lesbian identity, sexuality, homosexualism, personal identity, lesbianism, homophobia, queer identity, single person, abusive person, sex, interpersonal attraction, murder victim, partner, faggot, semen, pussy, hers, bitch\n",
       "model                                                                                                                                                                                                                                                                                                                                                                                                                                        man who has sex with men, feminist, marriage, homophobia, person who menstruates, sex, interracial marriage, sex work client, marital partner, parent, sex worker, fag, faggot, rapist, female gender role, pussy, abortion, morphological enlargement, hers, vagina, thot, penis, rape, domestic violence, she, bimbo, sexual abstinence, cunt, bitch, he, whore, slut, fuck, Mrs., rainbow flag\n",
       "trues       woman, man, LGBTQ, LGBT, .lgbt, man who has sex with men, r/lgbt, male gender identity, lesbian woman, female gender identity, gay man, .gay, transgender person, Black man, gay, homo, gay person, gender, heterosexual, homosexuality, feminist, lesbian, asexual and homoromantic person, gai, A-Gay, heterosexual person, gay identity, human homosexuality, sak veng, queer sexual orientation, transgender, same-gender marriage, marriage, transgenderism, heterosexuality, womanism, pederasty, lesbian identity, sexuality, heterosexual identity, homosexualism, lesbianism, personal identity, homophobia, queer identity, person who menstruates, mixed-orientation marriage, single person, sex, feminism, partner, marital partner, sex worker, fag, faggot, masculism, pussy, hers, thot, rape, menstruation, bitch"
      ]
     },
     "metadata": {},
     "output_type": "display_data"
    },
    {
     "data": {
      "image/png": "[encoded data removed]",
      "text/plain": [
       "<Figure size 432x432 with 1 Axes>"
      ]
     },
     "metadata": {
      "needs_background": "light"
     },
     "output_type": "display_data"
    },
    {
     "data": {
      "image/png": "[encoded data removed]",
      "text/plain": [
       "<Figure size 432x432 with 1 Axes>"
      ]
     },
     "metadata": {
      "needs_background": "light"
     },
     "output_type": "display_data"
    },
    {
     "data": {
      "image/png": "[encoded data removed]",
      "text/plain": [
       "<Figure size 432x432 with 1 Axes>"
      ]
     },
     "metadata": {
      "needs_background": "light"
     },
     "output_type": "display_data"
    }
   ],
   "source": [
    "# ... filter using elbow method\n",
    "print(f'Filtered by Elbow\\n{\"*\"*23}')\n",
    "for sample, entities_weight_count in entity_weights.items():\n",
    "    sorted_weights = [weight for ent, weight, c in entities_weight_count]\n",
    "    elbow_point = find_elbow(sorted_weights)\n",
    "    disc_entities[f'{sample}'] = [ent for ent, weight, count in entity_weights[sample][:elbow_point]]\n",
    "    print(f'  {sample}:\\n{disc_entities[sample]}')\n",
    "\n",
    "# ... manually find missing entities (italics > save only cols interest)\n",
    "lm, lm0 = {}, {}\n",
    "to_remove = {'too_general': ['object', 'ability', 'person', 'user', 'employment', 'continuant', 'member of an organization', 'information content entity','person with a disability'],\n",
    "             'too_specific':  ['cause of death', 'advocate', 'suicide', 'style', 'person with a pedophilic disorder', 'exposure', 'identity', 'diversity']}\n",
    "for sample in entity_weights.keys():\n",
    "    lm0[sample] = [entity for entity in disc_entities[f'{sample}'] if entity not in to_remove['too_general']+to_remove['too_specific']]\n",
    "for sample, lms in lm0.items():\n",
    "    if sample == 'annotation':\n",
    "        missed_sample = fp.copy()\n",
    "    elif sample == 'model':\n",
    "        missed_sample = fn.copy()\n",
    "    elif sample == 'trues':\n",
    "        missed_sample = true_sample.copy()\n",
    "    missed_sample[sample] = missed_sample.apply(lambda row: list(set(str(row[f'{model_name}_pos_matches']).split(';')).intersection(set(lms))), axis=1)\n",
    "    missed_sample[f'missed_{sample}'] = missed_sample[sample].apply(lambda matches: 1 if len(matches)==0 else 0)\n",
    "    print(f'{sample}: {missed_sample.shape[0]} missed.')\n",
    "    missed_sample.loc[missed_sample[f'missed_{sample}']==1].to_csv(os.path.join(models_folder, 'interpretations', 'entities_analysis',f'missed_{sample}.csv'), index=False)  \n",
    "# entities in italics\n",
    "to_add = {'annotation': ['hers', 'pussy', 'faggot', 'semen', 'bitch', 'partner'],\n",
    "          'model': ['whore', 'faggot', 'fag', 'rapist', 'parent', 'sex worker', 'marital partner', 'cunt', 'she', 'penis', 'abortion', 'bimbo', 'slut', 'vagina', 'female gender role', 'hers', 'he', 'fuck', 'Mrs.', 'sexual abstinence', 'morphological enlargement', 'pussy', 'rainbow flag', 'bitch','domestic violence', 'rape', 'thot'],\n",
    "          'trues': ['fag', 'pussy', 'hers', 'faggot', 'masculism', 'feminism', 'bitch', 'marital partner', 'sex worker', 'sex', 'partner', 'rape', 'menstruation', 'thot']}\n",
    "# ... print Table 5\n",
    "print(f'TABLE 5: \\n{\"*\"*23}')\n",
    "table_5 = {}\n",
    "for sample, entities in lm0.items():\n",
    "    lm[sample] = entities + [entity for entity,_,_ in entity_weights[sample] if entity in to_add[sample]]\n",
    "    print('{}: {}'.format(sample, len(lm[sample])))\n",
    "    table_5[sample] = ', '.join(lm[sample])\n",
    "display(pd.DataFrame.from_dict(table_5, orient='index'))"
   ]
  }
 ],
 "metadata": {
  "kernelspec": {
   "display_name": "venv2",
   "language": "python",
   "name": "venv2"
  },
  "language_info": {
   "codemirror_mode": {
    "name": "ipython",
    "version": 3
   },
   "file_extension": ".py",
   "mimetype": "text/x-python",
   "name": "python",
   "nbconvert_exporter": "python",
   "pygments_lexer": "ipython3",
   "version": "3.8.2"
  }
 },
 "nbformat": 4,
 "nbformat_minor": 2
}
